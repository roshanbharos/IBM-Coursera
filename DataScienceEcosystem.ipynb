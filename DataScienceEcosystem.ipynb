{
 "cells": [
  {
   "cell_type": "markdown",
   "metadata": {},
   "source": [
    "<center>\n",
    "    <img src=\"https://cf-courses-data.s3.us.cloud-object-storage.appdomain.cloud/IBMDeveloperSkillsNetwork-DS0105EN-SkillsNetwork/labs/Module2/images/SN_web_lightmode.png\" width=\"300\" alt=\"cognitiveclass.ai logo\">\n",
    "</center>\n"
   ]
  },
  {
   "cell_type": "markdown",
   "metadata": {},
   "source": [
    "#### Add your code below following the instructions given in the course\n"
   ]
  },
  {
   "cell_type": "markdown",
   "metadata": {
    "tags": []
   },
   "source": [
    "###### Exercise 2 - Create a markdown cell with the title of the notebook.\n",
    "Final Assignment Course 2 IBM Data Science"
   ]
  },
  {
   "cell_type": "markdown",
   "metadata": {
    "tags": []
   },
   "source": [
    "###### Exercise 3 - Create a markdown cell for an introduction.\n",
    "This python notebook contains all answers to the questions for the final assignment for Course 2 from IBM's Data Science Coursera course."
   ]
  },
  {
   "cell_type": "markdown",
   "metadata": {
    "tags": []
   },
   "source": [
    "###### Exercise 4 - Create a markdown cell to list data science languages\n",
    "1. Python\n",
    "2. R \n",
    "3. Javascript"
   ]
  },
  {
   "cell_type": "markdown",
   "metadata": {
    "tags": []
   },
   "source": [
    "###### Exercise 5 - Create a markdown cell to list data science libraries\n",
    "1. Pandas\n",
    "2. Numpy\n",
    "3. Seaborn"
   ]
  },
  {
   "cell_type": "markdown",
   "metadata": {
    "tags": []
   },
   "source": [
    "###### Exercise 6 - Create a markdown cell with a table of Data Science tools\n",
    "| Tools |\n",
    "|---------------|\n",
    "| Jupyter Notebook     |\n",
    "| Spyder        |\n",
    "| Visual Studio Code         |\n"
   ]
  },
  {
   "cell_type": "markdown",
   "metadata": {
    "tags": []
   },
   "source": [
    "###### Exercise 7 - Create a markdown cell introducing arithmetic expression examples\n",
    "1. addition: 2+2=4\n",
    "2. substraction: 2-2=0\n",
    "3. division 2/2=1"
   ]
  },
  {
   "cell_type": "markdown",
   "metadata": {
    "tags": []
   },
   "source": [
    "###### Exercise 8 - Create a code cell to multiply and add numbers\n"
   ]
  },
  {
   "cell_type": "code",
   "execution_count": 3,
   "metadata": {
    "tags": []
   },
   "outputs": [
    {
     "data": {
      "text/plain": [
       "12"
      ]
     },
     "execution_count": 3,
     "metadata": {},
     "output_type": "execute_result"
    }
   ],
   "source": [
    "# multiplication and addition\n",
    "2*2+8"
   ]
  },
  {
   "cell_type": "markdown",
   "metadata": {
    "tags": []
   },
   "source": [
    "###### Exercise 9 - Create a code cell to convert minutes to hours\n"
   ]
  },
  {
   "cell_type": "code",
   "execution_count": 6,
   "metadata": {
    "tags": []
   },
   "outputs": [
    {
     "name": "stdout",
     "output_type": "stream",
     "text": [
      "3.3333333333333335\n"
     ]
    }
   ],
   "source": [
    "minutes = 200\n",
    "hours = minutes / 60\n",
    "print(hours)\n"
   ]
  },
  {
   "cell_type": "markdown",
   "metadata": {
    "tags": []
   },
   "source": [
    "###### Exercise 10 -Insert a markdown cell to list Objectives\n",
    "* Know what tools data scientists use\n",
    "* Know the different programming languages often used in data science\n",
    "* "
   ]
  },
  {
   "cell_type": "markdown",
   "metadata": {
    "tags": []
   },
   "source": [
    "###### Exercise 11 - Create a markdown cell to indicate the Author’s name\n",
    "Final Assignment Week 2"
   ]
  }
 ],
 "metadata": {
  "kernelspec": {
   "display_name": "Python",
   "language": "python",
   "name": "conda-env-python-py"
  },
  "language_info": {
   "codemirror_mode": {
    "name": "ipython",
    "version": 3
   },
   "file_extension": ".py",
   "mimetype": "text/x-python",
   "name": "python",
   "nbconvert_exporter": "python",
   "pygments_lexer": "ipython3",
   "version": "3.7.12"
  }
 },
 "nbformat": 4,
 "nbformat_minor": 4
}
